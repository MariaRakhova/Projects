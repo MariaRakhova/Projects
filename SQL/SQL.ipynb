{
 "cells": [
  {
   "attachments": {},
   "cell_type": "markdown",
   "metadata": {},
   "source": [
    "**Задача 1. Необходимо составить и отсортировать сводную таблицу и вывести среднюю сумму инвестиций для некоторых стран. Данные за каждый год должны быть в отдельном поле.** "
   ]
  },
  {
   "attachments": {},
   "cell_type": "markdown",
   "metadata": {},
   "source": [
    "<pre>WITH y2011 AS   \n",
    "(SELECT country_code,  \n",
    "       AVG(funding_total) AS avg_11  \n",
    "FROM company  \n",
    "WHERE EXTRACT(YEAR FROM CAST(founded_at AS timestamp)) = 2011  \n",
    "GROUP BY country_code),  \n",
    "     y2012 AS   \n",
    "(SELECT country_code,  \n",
    "       AVG(funding_total) AS avg_12  \n",
    "FROM company  \n",
    "WHERE EXTRACT(YEAR FROM CAST(founded_at AS timestamp)) = 2012  \n",
    "GROUP BY country_code),  \n",
    "     y2013 AS   \n",
    "(SELECT country_code,  \n",
    "       AVG(funding_total) AS avg_13  \n",
    "FROM company  \n",
    "WHERE EXTRACT(YEAR FROM CAST(founded_at AS timestamp)) = 2013  \n",
    "GROUP BY country_code)  \n",
    "\n",
    "SELECT y11.country_code,  \n",
    "       avg_11,  \n",
    "       avg_12,  \n",
    "       avg_13  \n",
    "FROM y2011 AS y11  \n",
    "INNER JOIN y2012 AS y12 ON y11.country_code = y12.country_code  \n",
    "INNER JOIN y2013 AS y13 ON y12.country_code = y13.country_code  \n",
    "ORDER BY avg_11 DESC<pre>  "
   ]
  },
  {
   "attachments": {},
   "cell_type": "markdown",
   "metadata": {},
   "source": [
    "**Задача 2. Необходимо отобрать и сгруппировать данные по условию за определенный период.** "
   ]
  },
  {
   "attachments": {},
   "cell_type": "markdown",
   "metadata": {},
   "source": [
    "<pre>WITH acquis AS \n",
    "  (SELECT EXTRACT(MONTH FROM CAST(acquired_at AS timestamp)) AS mon_acq,\n",
    "          COUNT(id) AS cou,\n",
    "          SUM(price_amount) AS price\n",
    "   FROM acquisition\n",
    "   WHERE EXTRACT(YEAR FROM CAST(acquired_at AS timestamp)) BETWEEN '2010' AND '2013'\n",
    "   GROUP BY EXTRACT(MONTH FROM CAST(acquired_at AS timestamp))),\n",
    "\n",
    "  fun_name AS\n",
    "  (SELECT EXTRACT(MONTH FROM CAST(fr.funded_at AS timestamp)) AS mon_fun,\n",
    "          COUNT(DISTINCT f.name) AS name_fun\n",
    "   FROM fund AS f \n",
    "   INNER JOIN investment AS i ON f.id = i.fund_id     \n",
    "   INNER JOIN funding_round AS fr ON  i.funding_round_id = fr.id\n",
    "   INNER JOIN company AS c ON fr.company_id = c.id\n",
    "WHERE EXTRACT(YEAR FROM CAST(fr.funded_at AS timestamp)) BETWEEN '2010' AND '2013'\n",
    "  AND f.country_code = 'USA'\n",
    "GROUP BY EXTRACT(MONTH FROM CAST(fr.funded_at AS timestamp)))\n",
    "\n",
    "SELECT f.mon_fun,\n",
    "       f.name_fun,\n",
    "       a.cou,\n",
    "       a.price\n",
    "FROM fun_name AS f \n",
    "INNER JOIN acquis AS a ON f.mon_fun = a.mon_acq<pre>     "
   ]
  },
  {
   "attachments": {},
   "cell_type": "markdown",
   "metadata": {},
   "source": [
    "\n",
    "**Задача 3. Необходимо выгрузить таблицу, с названиями компаний определенной категории, по условию за определнный период.**"
   ]
  },
  {
   "attachments": {},
   "cell_type": "markdown",
   "metadata": {},
   "source": [
    "<pre>SELECT c.name,\n",
    "       EXTRACT(MONTH FROM CAST(f.funded_at AS timestamp))\n",
    "FROM company AS c\n",
    "INNER JOIN funding_round AS f ON c.id = f.company_id\n",
    "WHERE c.category_code = 'social'\n",
    "  AND f.raised_amount !=0\n",
    "  AND EXTRACT(YEAR FROM CAST(f.funded_at AS timestamp)) BETWEEN '2010' AND '2013'<pre>"
   ]
  },
  {
   "attachments": {},
   "cell_type": "markdown",
   "metadata": {},
   "source": [
    "**Задача 4. Необходимо выгрузить и отсортировать таблицу с определенными полями, добавив новый столбец и исключив объекты по условию.**"
   ]
  },
  {
   "attachments": {},
   "cell_type": "markdown",
   "metadata": {},
   "source": [
    "<pre>SELECT cing.name,\n",
    "       a.price_amount,\n",
    "       cer.name,\n",
    "       cer.funding_total,\n",
    "       ROUND(a.price_amount/cer.funding_total)\n",
    "FROM company AS cing\n",
    "INNER JOIN acquisition AS a ON cing.id = a.acquiring_company_id\n",
    "INNER JOIN company AS cer ON a.acquired_company_id = cer.id\n",
    "WHERE a.price_amount !=0\n",
    "  AND cer.funding_total !=0\n",
    "ORDER BY a.price_amount DESC, cer.name\n",
    "LIMIT 10<pre>\n"
   ]
  },
  {
   "attachments": {},
   "cell_type": "markdown",
   "metadata": {},
   "source": [
    "**Задача 5. Необходимо составить таблицу из определенных полей, за заданный период и по условию.**"
   ]
  },
  {
   "attachments": {},
   "cell_type": "markdown",
   "metadata": {},
   "source": [
    "<pre>SELECT f.name AS name_of_fund,\n",
    "       c.name AS name_of_company,\n",
    "       fr.raised_amount AS amount\n",
    "FROM fund AS f\n",
    "INNER JOIN investment AS i ON f.id = i.fund_id\n",
    "INNER JOIN funding_round AS fr ON i.funding_round_id = fr.id\n",
    "INNER JOIN company AS c ON fr.company_id = c.id\n",
    "WHERE c.milestones > 6\n",
    "  AND EXTRACT(YEAR FROM CAST(fr.funded_at AS timestamp)) BETWEEN '2012' AND '2013'<pre>\n",
    "  "
   ]
  },
  {
   "attachments": {},
   "cell_type": "markdown",
   "metadata": {},
   "source": [
    "**Задача 6. Необходимо вывести среднее число учебных заведений по условию.**"
   ]
  },
  {
   "attachments": {},
   "cell_type": "markdown",
   "metadata": {},
   "source": [
    "<pre>WITH instit AS\n",
    "(SELECT p.id, \n",
    "        COUNT(e.instituition) AS coun\n",
    "FROM people AS p\n",
    "LEFT JOIN education AS e ON p.id = e.person_id\n",
    "\n",
    "WHERE company_id IN\n",
    "\n",
    "(SELECT id AS company_id\n",
    "FROM company\n",
    "WHERE name = 'Facebook')\n",
    "AND e.instituition IS NOT NULL\n",
    "GROUP BY p.id)\n",
    "\n",
    "SELECT AVG(coun)\n",
    "FROM instit<pre>"
   ]
  },
  {
   "attachments": {},
   "cell_type": "markdown",
   "metadata": {},
   "source": [
    "**Задача 7. Необходимо вывести среднее число учебных заведений по заданному условию.**"
   ]
  },
  {
   "attachments": {},
   "cell_type": "markdown",
   "metadata": {},
   "source": [
    "<pre>WITH instit AS\n",
    "(SELECT p.id, \n",
    "       COUNT(e.instituition) AS coun\n",
    "FROM people AS p\n",
    "LEFT JOIN education AS e ON p.id = e.person_id\n",
    "\n",
    "WHERE company_id IN\n",
    "\n",
    "(SELECT id AS copany_id\n",
    "FROM company\n",
    "WHERE id IN (SELECT company_id AS id\n",
    "             FROM funding_round\n",
    "             WHERE is_first_round = 1\n",
    "               AND is_last_round = 1)\n",
    "AND status = 'closed')\n",
    "AND e.instituition IS NOT NULL\n",
    "GROUP BY p.id)\n",
    "\n",
    "SELECT AVG(coun)\n",
    "FROM instit<pre>"
   ]
  },
  {
   "cell_type": "markdown",
   "metadata": {},
   "source": []
  }
 ],
 "metadata": {
  "language_info": {
   "name": "python"
  },
  "orig_nbformat": 4
 },
 "nbformat": 4,
 "nbformat_minor": 2
}
